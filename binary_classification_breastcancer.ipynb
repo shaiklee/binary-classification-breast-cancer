{
  "nbformat": 4,
  "nbformat_minor": 0,
  "metadata": {
    "colab": {
      "provenance": [],
      "gpuType": "T4"
    },
    "kernelspec": {
      "name": "python3",
      "display_name": "Python 3"
    },
    "language_info": {
      "name": "python"
    },
    "accelerator": "GPU"
  },
  "cells": [
    {
      "cell_type": "code",
      "source": [
        "from google.colab import drive\n",
        "drive.mount('/content/drive')"
      ],
      "metadata": {
        "colab": {
          "base_uri": "https://localhost:8080/"
        },
        "id": "gydj5O5pwsoU",
        "outputId": "fc1a229c-b00b-4d17-8681-6e7add7afeea"
      },
      "execution_count": null,
      "outputs": [
        {
          "output_type": "stream",
          "name": "stdout",
          "text": [
            "Drive already mounted at /content/drive; to attempt to forcibly remount, call drive.mount(\"/content/drive\", force_remount=True).\n"
          ]
        }
      ]
    },
    {
      "cell_type": "code",
      "source": [
        "import numpy as np\n",
        "import pandas as pd\n",
        "import matplotlib.pyplot as plt\n",
        "import seaborn as sns"
      ],
      "metadata": {
        "id": "swK4AZ6Y0X7b"
      },
      "execution_count": null,
      "outputs": []
    },
    {
      "cell_type": "code",
      "source": [
        "df=pd.read_csv(\"/content/drive/MyDrive/Colab Notebooks/data/data.csv\")"
      ],
      "metadata": {
        "id": "quAkR6qH0kVW"
      },
      "execution_count": null,
      "outputs": []
    },
    {
      "cell_type": "code",
      "source": [
        "print(df.describe().T)"
      ],
      "metadata": {
        "colab": {
          "base_uri": "https://localhost:8080/"
        },
        "id": "7eGO8ABG0tZd",
        "outputId": "9a1da1d2-506c-4dc6-956a-31f9c1ae667d"
      },
      "execution_count": null,
      "outputs": [
        {
          "output_type": "stream",
          "name": "stdout",
          "text": [
            "                         count          mean           std          min  \\\n",
            "id                       569.0  3.037183e+07  1.250206e+08  8670.000000   \n",
            "radius_mean              569.0  1.412729e+01  3.524049e+00     6.981000   \n",
            "texture_mean             569.0  1.928965e+01  4.301036e+00     9.710000   \n",
            "perimeter_mean           569.0  9.196903e+01  2.429898e+01    43.790000   \n",
            "area_mean                569.0  6.548891e+02  3.519141e+02   143.500000   \n",
            "smoothness_mean          569.0  9.636028e-02  1.406413e-02     0.052630   \n",
            "compactness_mean         569.0  1.043410e-01  5.281276e-02     0.019380   \n",
            "concavity_mean           569.0  8.879932e-02  7.971981e-02     0.000000   \n",
            "concave points_mean      569.0  4.891915e-02  3.880284e-02     0.000000   \n",
            "symmetry_mean            569.0  1.811619e-01  2.741428e-02     0.106000   \n",
            "fractal_dimension_mean   569.0  6.279761e-02  7.060363e-03     0.049960   \n",
            "radius_se                569.0  4.051721e-01  2.773127e-01     0.111500   \n",
            "texture_se               569.0  1.216853e+00  5.516484e-01     0.360200   \n",
            "perimeter_se             569.0  2.866059e+00  2.021855e+00     0.757000   \n",
            "area_se                  569.0  4.033708e+01  4.549101e+01     6.802000   \n",
            "smoothness_se            569.0  7.040979e-03  3.002518e-03     0.001713   \n",
            "compactness_se           569.0  2.547814e-02  1.790818e-02     0.002252   \n",
            "concavity_se             569.0  3.189372e-02  3.018606e-02     0.000000   \n",
            "concave points_se        569.0  1.179614e-02  6.170285e-03     0.000000   \n",
            "symmetry_se              569.0  2.054230e-02  8.266372e-03     0.007882   \n",
            "fractal_dimension_se     569.0  3.794904e-03  2.646071e-03     0.000895   \n",
            "radius_worst             569.0  1.626919e+01  4.833242e+00     7.930000   \n",
            "texture_worst            569.0  2.567722e+01  6.146258e+00    12.020000   \n",
            "perimeter_worst          569.0  1.072612e+02  3.360254e+01    50.410000   \n",
            "area_worst               569.0  8.805831e+02  5.693570e+02   185.200000   \n",
            "smoothness_worst         569.0  1.323686e-01  2.283243e-02     0.071170   \n",
            "compactness_worst        569.0  2.542650e-01  1.573365e-01     0.027290   \n",
            "concavity_worst          569.0  2.721885e-01  2.086243e-01     0.000000   \n",
            "concave points_worst     569.0  1.146062e-01  6.573234e-02     0.000000   \n",
            "symmetry_worst           569.0  2.900756e-01  6.186747e-02     0.156500   \n",
            "fractal_dimension_worst  569.0  8.394582e-02  1.806127e-02     0.055040   \n",
            "Unnamed: 32                0.0           NaN           NaN          NaN   \n",
            "\n",
            "                                   25%            50%           75%  \\\n",
            "id                       869218.000000  906024.000000  8.813129e+06   \n",
            "radius_mean                  11.700000      13.370000  1.578000e+01   \n",
            "texture_mean                 16.170000      18.840000  2.180000e+01   \n",
            "perimeter_mean               75.170000      86.240000  1.041000e+02   \n",
            "area_mean                   420.300000     551.100000  7.827000e+02   \n",
            "smoothness_mean               0.086370       0.095870  1.053000e-01   \n",
            "compactness_mean              0.064920       0.092630  1.304000e-01   \n",
            "concavity_mean                0.029560       0.061540  1.307000e-01   \n",
            "concave points_mean           0.020310       0.033500  7.400000e-02   \n",
            "symmetry_mean                 0.161900       0.179200  1.957000e-01   \n",
            "fractal_dimension_mean        0.057700       0.061540  6.612000e-02   \n",
            "radius_se                     0.232400       0.324200  4.789000e-01   \n",
            "texture_se                    0.833900       1.108000  1.474000e+00   \n",
            "perimeter_se                  1.606000       2.287000  3.357000e+00   \n",
            "area_se                      17.850000      24.530000  4.519000e+01   \n",
            "smoothness_se                 0.005169       0.006380  8.146000e-03   \n",
            "compactness_se                0.013080       0.020450  3.245000e-02   \n",
            "concavity_se                  0.015090       0.025890  4.205000e-02   \n",
            "concave points_se             0.007638       0.010930  1.471000e-02   \n",
            "symmetry_se                   0.015160       0.018730  2.348000e-02   \n",
            "fractal_dimension_se          0.002248       0.003187  4.558000e-03   \n",
            "radius_worst                 13.010000      14.970000  1.879000e+01   \n",
            "texture_worst                21.080000      25.410000  2.972000e+01   \n",
            "perimeter_worst              84.110000      97.660000  1.254000e+02   \n",
            "area_worst                  515.300000     686.500000  1.084000e+03   \n",
            "smoothness_worst              0.116600       0.131300  1.460000e-01   \n",
            "compactness_worst             0.147200       0.211900  3.391000e-01   \n",
            "concavity_worst               0.114500       0.226700  3.829000e-01   \n",
            "concave points_worst          0.064930       0.099930  1.614000e-01   \n",
            "symmetry_worst                0.250400       0.282200  3.179000e-01   \n",
            "fractal_dimension_worst       0.071460       0.080040  9.208000e-02   \n",
            "Unnamed: 32                        NaN            NaN           NaN   \n",
            "\n",
            "                                  max  \n",
            "id                       9.113205e+08  \n",
            "radius_mean              2.811000e+01  \n",
            "texture_mean             3.928000e+01  \n",
            "perimeter_mean           1.885000e+02  \n",
            "area_mean                2.501000e+03  \n",
            "smoothness_mean          1.634000e-01  \n",
            "compactness_mean         3.454000e-01  \n",
            "concavity_mean           4.268000e-01  \n",
            "concave points_mean      2.012000e-01  \n",
            "symmetry_mean            3.040000e-01  \n",
            "fractal_dimension_mean   9.744000e-02  \n",
            "radius_se                2.873000e+00  \n",
            "texture_se               4.885000e+00  \n",
            "perimeter_se             2.198000e+01  \n",
            "area_se                  5.422000e+02  \n",
            "smoothness_se            3.113000e-02  \n",
            "compactness_se           1.354000e-01  \n",
            "concavity_se             3.960000e-01  \n",
            "concave points_se        5.279000e-02  \n",
            "symmetry_se              7.895000e-02  \n",
            "fractal_dimension_se     2.984000e-02  \n",
            "radius_worst             3.604000e+01  \n",
            "texture_worst            4.954000e+01  \n",
            "perimeter_worst          2.512000e+02  \n",
            "area_worst               4.254000e+03  \n",
            "smoothness_worst         2.226000e-01  \n",
            "compactness_worst        1.058000e+00  \n",
            "concavity_worst          1.252000e+00  \n",
            "concave points_worst     2.910000e-01  \n",
            "symmetry_worst           6.638000e-01  \n",
            "fractal_dimension_worst  2.075000e-01  \n",
            "Unnamed: 32                       NaN  \n"
          ]
        }
      ]
    },
    {
      "cell_type": "code",
      "source": [
        "print(df.isnull().sum())"
      ],
      "metadata": {
        "colab": {
          "base_uri": "https://localhost:8080/"
        },
        "id": "NsIZQ_Dw1OKM",
        "outputId": "00258c7d-e42c-4061-b341-5e6fbd8600a7"
      },
      "execution_count": null,
      "outputs": [
        {
          "output_type": "stream",
          "name": "stdout",
          "text": [
            "id                           0\n",
            "diagnosis                    0\n",
            "radius_mean                  0\n",
            "texture_mean                 0\n",
            "perimeter_mean               0\n",
            "area_mean                    0\n",
            "smoothness_mean              0\n",
            "compactness_mean             0\n",
            "concavity_mean               0\n",
            "concave points_mean          0\n",
            "symmetry_mean                0\n",
            "fractal_dimension_mean       0\n",
            "radius_se                    0\n",
            "texture_se                   0\n",
            "perimeter_se                 0\n",
            "area_se                      0\n",
            "smoothness_se                0\n",
            "compactness_se               0\n",
            "concavity_se                 0\n",
            "concave points_se            0\n",
            "symmetry_se                  0\n",
            "fractal_dimension_se         0\n",
            "radius_worst                 0\n",
            "texture_worst                0\n",
            "perimeter_worst              0\n",
            "area_worst                   0\n",
            "smoothness_worst             0\n",
            "compactness_worst            0\n",
            "concavity_worst              0\n",
            "concave points_worst         0\n",
            "symmetry_worst               0\n",
            "fractal_dimension_worst      0\n",
            "Unnamed: 32                569\n",
            "dtype: int64\n"
          ]
        }
      ]
    },
    {
      "cell_type": "code",
      "source": [],
      "metadata": {
        "id": "549ePJwb1ODo"
      },
      "execution_count": null,
      "outputs": []
    },
    {
      "cell_type": "code",
      "source": [
        "df=df.rename(columns={'diagnosis':'label'})\n",
        "print(df.dtypes)"
      ],
      "metadata": {
        "colab": {
          "base_uri": "https://localhost:8080/"
        },
        "id": "MX5_fARa13rf",
        "outputId": "1821a6b8-8530-4c84-e4d6-ea766c48b906"
      },
      "execution_count": null,
      "outputs": [
        {
          "output_type": "stream",
          "name": "stdout",
          "text": [
            "id                           int64\n",
            "label                       object\n",
            "radius_mean                float64\n",
            "texture_mean               float64\n",
            "perimeter_mean             float64\n",
            "area_mean                  float64\n",
            "smoothness_mean            float64\n",
            "compactness_mean           float64\n",
            "concavity_mean             float64\n",
            "concave points_mean        float64\n",
            "symmetry_mean              float64\n",
            "fractal_dimension_mean     float64\n",
            "radius_se                  float64\n",
            "texture_se                 float64\n",
            "perimeter_se               float64\n",
            "area_se                    float64\n",
            "smoothness_se              float64\n",
            "compactness_se             float64\n",
            "concavity_se               float64\n",
            "concave points_se          float64\n",
            "symmetry_se                float64\n",
            "fractal_dimension_se       float64\n",
            "radius_worst               float64\n",
            "texture_worst              float64\n",
            "perimeter_worst            float64\n",
            "area_worst                 float64\n",
            "smoothness_worst           float64\n",
            "compactness_worst          float64\n",
            "concavity_worst            float64\n",
            "concave points_worst       float64\n",
            "symmetry_worst             float64\n",
            "fractal_dimension_worst    float64\n",
            "Unnamed: 32                float64\n",
            "dtype: object\n"
          ]
        }
      ]
    },
    {
      "cell_type": "code",
      "source": [
        "sns.countplot(x=\"label\", data=df)"
      ],
      "metadata": {
        "colab": {
          "base_uri": "https://localhost:8080/",
          "height": 466
        },
        "id": "xJqjD0i62sU-",
        "outputId": "ee506eff-10d2-4273-fbcf-b92dfbc2f9e9"
      },
      "execution_count": null,
      "outputs": [
        {
          "output_type": "execute_result",
          "data": {
            "text/plain": [
              "<Axes: xlabel='label', ylabel='count'>"
            ]
          },
          "metadata": {},
          "execution_count": 7
        },
        {
          "output_type": "display_data",
          "data": {
            "text/plain": [
              "<Figure size 640x480 with 1 Axes>"
            ],
            "image/png": "[encoded data removed]"
          },
          "metadata": {}
        }
      ]
    },
    {
      "cell_type": "code",
      "source": [
        "#### replace categorical values with numbers #####\n",
        "print('disstribution of data', df['label'].value_counts())\n",
        "\n",
        "#### define the dependent variable that needs to be predicted######\n",
        "y=df['label'].values\n",
        "print('labes before encoding are:', np.unique(y))\n",
        "\n",
        "### encoding categorical data from text (B and M) to integers (0 and 1)\n",
        "from sklearn.preprocessing import LabelEncoder\n",
        "labelencoder_y=LabelEncoder()\n",
        "y=labelencoder_y.fit_transform(y)\n",
        "print('labels after encoding are:',np.unique(y))"
      ],
      "metadata": {
        "colab": {
          "base_uri": "https://localhost:8080/"
        },
        "id": "Deu5ctG83jxN",
        "outputId": "291ab270-373d-4e6d-8000-e6e3deeae802"
      },
      "execution_count": null,
      "outputs": [
        {
          "output_type": "stream",
          "name": "stdout",
          "text": [
            "disstribution of data label\n",
            "B    357\n",
            "M    212\n",
            "Name: count, dtype: int64\n",
            "labes before encoding are: ['B' 'M']\n",
            "labels after encoding are: [0 1]\n"
          ]
        }
      ]
    },
    {
      "cell_type": "code",
      "source": [
        "### define x and normalize/ scale values\n",
        "### define the independent variables. drop label and id, and normalize other data\n",
        "x=df.drop(labels=[\"label\",\"id\"], axis=1)\n",
        "print(x.describe().T)"
      ],
      "metadata": {
        "colab": {
          "base_uri": "https://localhost:8080/"
        },
        "id": "QzVpuma25NYl",
        "outputId": "c3f37039-2e05-4eab-8e83-a37edf8e08cc"
      },
      "execution_count": null,
      "outputs": [
        {
          "output_type": "stream",
          "name": "stdout",
          "text": [
            "                         count        mean         std         min  \\\n",
            "radius_mean              569.0   14.127292    3.524049    6.981000   \n",
            "texture_mean             569.0   19.289649    4.301036    9.710000   \n",
            "perimeter_mean           569.0   91.969033   24.298981   43.790000   \n",
            "area_mean                569.0  654.889104  351.914129  143.500000   \n",
            "smoothness_mean          569.0    0.096360    0.014064    0.052630   \n",
            "compactness_mean         569.0    0.104341    0.052813    0.019380   \n",
            "concavity_mean           569.0    0.088799    0.079720    0.000000   \n",
            "concave points_mean      569.0    0.048919    0.038803    0.000000   \n",
            "symmetry_mean            569.0    0.181162    0.027414    0.106000   \n",
            "fractal_dimension_mean   569.0    0.062798    0.007060    0.049960   \n",
            "radius_se                569.0    0.405172    0.277313    0.111500   \n",
            "texture_se               569.0    1.216853    0.551648    0.360200   \n",
            "perimeter_se             569.0    2.866059    2.021855    0.757000   \n",
            "area_se                  569.0   40.337079   45.491006    6.802000   \n",
            "smoothness_se            569.0    0.007041    0.003003    0.001713   \n",
            "compactness_se           569.0    0.025478    0.017908    0.002252   \n",
            "concavity_se             569.0    0.031894    0.030186    0.000000   \n",
            "concave points_se        569.0    0.011796    0.006170    0.000000   \n",
            "symmetry_se              569.0    0.020542    0.008266    0.007882   \n",
            "fractal_dimension_se     569.0    0.003795    0.002646    0.000895   \n",
            "radius_worst             569.0   16.269190    4.833242    7.930000   \n",
            "texture_worst            569.0   25.677223    6.146258   12.020000   \n",
            "perimeter_worst          569.0  107.261213   33.602542   50.410000   \n",
            "area_worst               569.0  880.583128  569.356993  185.200000   \n",
            "smoothness_worst         569.0    0.132369    0.022832    0.071170   \n",
            "compactness_worst        569.0    0.254265    0.157336    0.027290   \n",
            "concavity_worst          569.0    0.272188    0.208624    0.000000   \n",
            "concave points_worst     569.0    0.114606    0.065732    0.000000   \n",
            "symmetry_worst           569.0    0.290076    0.061867    0.156500   \n",
            "fractal_dimension_worst  569.0    0.083946    0.018061    0.055040   \n",
            "Unnamed: 32                0.0         NaN         NaN         NaN   \n",
            "\n",
            "                                25%         50%          75%         max  \n",
            "radius_mean               11.700000   13.370000    15.780000    28.11000  \n",
            "texture_mean              16.170000   18.840000    21.800000    39.28000  \n",
            "perimeter_mean            75.170000   86.240000   104.100000   188.50000  \n",
            "area_mean                420.300000  551.100000   782.700000  2501.00000  \n",
            "smoothness_mean            0.086370    0.095870     0.105300     0.16340  \n",
            "compactness_mean           0.064920    0.092630     0.130400     0.34540  \n",
            "concavity_mean             0.029560    0.061540     0.130700     0.42680  \n",
            "concave points_mean        0.020310    0.033500     0.074000     0.20120  \n",
            "symmetry_mean              0.161900    0.179200     0.195700     0.30400  \n",
            "fractal_dimension_mean     0.057700    0.061540     0.066120     0.09744  \n",
            "radius_se                  0.232400    0.324200     0.478900     2.87300  \n",
            "texture_se                 0.833900    1.108000     1.474000     4.88500  \n",
            "perimeter_se               1.606000    2.287000     3.357000    21.98000  \n",
            "area_se                   17.850000   24.530000    45.190000   542.20000  \n",
            "smoothness_se              0.005169    0.006380     0.008146     0.03113  \n",
            "compactness_se             0.013080    0.020450     0.032450     0.13540  \n",
            "concavity_se               0.015090    0.025890     0.042050     0.39600  \n",
            "concave points_se          0.007638    0.010930     0.014710     0.05279  \n",
            "symmetry_se                0.015160    0.018730     0.023480     0.07895  \n",
            "fractal_dimension_se       0.002248    0.003187     0.004558     0.02984  \n",
            "radius_worst              13.010000   14.970000    18.790000    36.04000  \n",
            "texture_worst             21.080000   25.410000    29.720000    49.54000  \n",
            "perimeter_worst           84.110000   97.660000   125.400000   251.20000  \n",
            "area_worst               515.300000  686.500000  1084.000000  4254.00000  \n",
            "smoothness_worst           0.116600    0.131300     0.146000     0.22260  \n",
            "compactness_worst          0.147200    0.211900     0.339100     1.05800  \n",
            "concavity_worst            0.114500    0.226700     0.382900     1.25200  \n",
            "concave points_worst       0.064930    0.099930     0.161400     0.29100  \n",
            "symmetry_worst             0.250400    0.282200     0.317900     0.66380  \n",
            "fractal_dimension_worst    0.071460    0.080040     0.092080     0.20750  \n",
            "Unnamed: 32                     NaN         NaN          NaN         NaN  \n"
          ]
        }
      ]
    },
    {
      "cell_type": "code",
      "source": [
        "#scale/ normalize the values to bring them to similar range\n",
        "from sklearn.preprocessing import MinMaxScaler\n",
        "scaler=MinMaxScaler()\n",
        "scaler.fit(x)\n",
        "x=scaler.transform(x)\n",
        "print(x)  ###scaled values"
      ],
      "metadata": {
        "colab": {
          "base_uri": "https://localhost:8080/"
        },
        "id": "Td7q89hZwEYG",
        "outputId": "6b268c18-c65a-428a-b438-e1677132270e"
      },
      "execution_count": null,
      "outputs": [
        {
          "output_type": "stream",
          "name": "stdout",
          "text": [
            "[[0.52103744 0.0226581  0.54598853 ... 0.59846245 0.41886396        nan]\n",
            " [0.64314449 0.27257355 0.61578329 ... 0.23358959 0.22287813        nan]\n",
            " [0.60149557 0.3902604  0.59574321 ... 0.40370589 0.21343303        nan]\n",
            " ...\n",
            " [0.45525108 0.62123774 0.44578813 ... 0.12872068 0.1519087         nan]\n",
            " [0.64456434 0.66351031 0.66553797 ... 0.49714173 0.45231536        nan]\n",
            " [0.03686876 0.50152181 0.02853984 ... 0.25744136 0.10068215        nan]]\n"
          ]
        },
        {
          "output_type": "stream",
          "name": "stderr",
          "text": [
            "/usr/local/lib/python3.10/dist-packages/sklearn/preprocessing/_data.py:473: RuntimeWarning: All-NaN slice encountered\n",
            "  data_min = np.nanmin(X, axis=0)\n",
            "/usr/local/lib/python3.10/dist-packages/sklearn/preprocessing/_data.py:474: RuntimeWarning: All-NaN slice encountered\n",
            "  data_max = np.nanmax(X, axis=0)\n"
          ]
        }
      ]
    },
    {
      "cell_type": "code",
      "source": [
        "#split data into train and test to verify accuracy after fitting the model.\n",
        "from sklearn.model_selection import train_test_split\n",
        "x_train,x_test,y_train,y_test=train_test_split(x,y, test_size=0.25, random_state=42)\n",
        "print(\"shape of training data is:\", x_train.shape)\n",
        "print(\"shape of testing data is:\", x_test.shape)"
      ],
      "metadata": {
        "colab": {
          "base_uri": "https://localhost:8080/"
        },
        "id": "cUzq6M1DxMrA",
        "outputId": "2792666f-3c7d-449d-b46c-2e17b6c75650"
      },
      "execution_count": null,
      "outputs": [
        {
          "output_type": "stream",
          "name": "stdout",
          "text": [
            "shape of training data is: (426, 31)\n",
            "shape of testing data is: (143, 31)\n"
          ]
        }
      ]
    },
    {
      "cell_type": "code",
      "source": [
        "x_train = x_train[:, :30]\n",
        "x_test = x_test[:, :30]\n"
      ],
      "metadata": {
        "id": "RWhvo4QH6twG"
      },
      "execution_count": null,
      "outputs": []
    },
    {
      "cell_type": "code",
      "source": [
        "from keras.models import Sequential\n",
        "from keras.layers import Dense, Activation, Dropout"
      ],
      "metadata": {
        "id": "Q__bRwFBylJO"
      },
      "execution_count": null,
      "outputs": []
    },
    {
      "cell_type": "code",
      "source": [
        "model=Sequential()\n",
        "model.add(Dense(16, activation='relu', input_dim=30))\n",
        "model.add(Dropout(0.2))\n",
        "model.add(Dense(1))\n",
        "model.add(Activation('sigmoid'))\n",
        "model.compile(optimizer='adam', loss='binary_crossentropy', metrics=['accuracy'])\n",
        "\n",
        "print(model.summary())"
      ],
      "metadata": {
        "colab": {
          "base_uri": "https://localhost:8080/"
        },
        "id": "WjLne58Ny1oL",
        "outputId": "a7d25ab8-5c12-4c53-d20f-e2225c1412ad"
      },
      "execution_count": null,
      "outputs": [
        {
          "output_type": "stream",
          "name": "stdout",
          "text": [
            "Model: \"sequential\"\n",
            "_________________________________________________________________\n",
            " Layer (type)                Output Shape              Param #   \n",
            "=================================================================\n",
            " dense (Dense)               (None, 16)                496       \n",
            "                                                                 \n",
            " dropout (Dropout)           (None, 16)                0         \n",
            "                                                                 \n",
            " dense_1 (Dense)             (None, 1)                 17        \n",
            "                                                                 \n",
            " activation (Activation)     (None, 1)                 0         \n",
            "                                                                 \n",
            "=================================================================\n",
            "Total params: 513 (2.00 KB)\n",
            "Trainable params: 513 (2.00 KB)\n",
            "Non-trainable params: 0 (0.00 Byte)\n",
            "_________________________________________________________________\n",
            "None\n"
          ]
        }
      ]
    },
    {
      "cell_type": "code",
      "source": [
        "##fit with no early stopping or other callbacks\n",
        "history = model.fit(x_train, y_train, batch_size=32, epochs=100, verbose=1,\n",
        "                    validation_data=(x_test, y_test))"
      ],
      "metadata": {
        "colab": {
          "base_uri": "https://localhost:8080/"
        },
        "id": "UPfT7qyf2TZ9",
        "outputId": "b4cc5026-8620-4fb1-edea-ad79c83c0fc3"
      },
      "execution_count": null,
      "outputs": [
        {
          "output_type": "stream",
          "name": "stdout",
          "text": [
            "Epoch 1/100\n",
            "14/14 [==============================] - 6s 28ms/step - loss: 0.7114 - accuracy: 0.3991 - val_loss: 0.6977 - val_accuracy: 0.4196\n",
            "Epoch 2/100\n",
            "14/14 [==============================] - 0s 8ms/step - loss: 0.6801 - accuracy: 0.4695 - val_loss: 0.6663 - val_accuracy: 0.5105\n",
            "Epoch 3/100\n",
            "14/14 [==============================] - 0s 8ms/step - loss: 0.6587 - accuracy: 0.6362 - val_loss: 0.6375 - val_accuracy: 0.7343\n",
            "Epoch 4/100\n",
            "14/14 [==============================] - 0s 9ms/step - loss: 0.6233 - accuracy: 0.7700 - val_loss: 0.6088 - val_accuracy: 0.8531\n",
            "Epoch 5/100\n",
            "14/14 [==============================] - 0s 11ms/step - loss: 0.6006 - accuracy: 0.8075 - val_loss: 0.5817 - val_accuracy: 0.8741\n",
            "Epoch 6/100\n",
            "14/14 [==============================] - 0s 9ms/step - loss: 0.5810 - accuracy: 0.8192 - val_loss: 0.5564 - val_accuracy: 0.8811\n",
            "Epoch 7/100\n",
            "14/14 [==============================] - 0s 8ms/step - loss: 0.5565 - accuracy: 0.8169 - val_loss: 0.5301 - val_accuracy: 0.9021\n",
            "Epoch 8/100\n",
            "14/14 [==============================] - 0s 8ms/step - loss: 0.5422 - accuracy: 0.8380 - val_loss: 0.5076 - val_accuracy: 0.9091\n",
            "Epoch 9/100\n",
            "14/14 [==============================] - 0s 5ms/step - loss: 0.5195 - accuracy: 0.8451 - val_loss: 0.4855 - val_accuracy: 0.9161\n",
            "Epoch 10/100\n",
            "14/14 [==============================] - 0s 6ms/step - loss: 0.5094 - accuracy: 0.8568 - val_loss: 0.4647 - val_accuracy: 0.9301\n",
            "Epoch 11/100\n",
            "14/14 [==============================] - 0s 7ms/step - loss: 0.4846 - accuracy: 0.8685 - val_loss: 0.4455 - val_accuracy: 0.9371\n",
            "Epoch 12/100\n",
            "14/14 [==============================] - 0s 5ms/step - loss: 0.4731 - accuracy: 0.8498 - val_loss: 0.4265 - val_accuracy: 0.9161\n",
            "Epoch 13/100\n",
            "14/14 [==============================] - 0s 5ms/step - loss: 0.4538 - accuracy: 0.8685 - val_loss: 0.4089 - val_accuracy: 0.9161\n",
            "Epoch 14/100\n",
            "14/14 [==============================] - 0s 5ms/step - loss: 0.4420 - accuracy: 0.8732 - val_loss: 0.3913 - val_accuracy: 0.9231\n",
            "Epoch 15/100\n",
            "14/14 [==============================] - 0s 6ms/step - loss: 0.4232 - accuracy: 0.8638 - val_loss: 0.3751 - val_accuracy: 0.9231\n",
            "Epoch 16/100\n",
            "14/14 [==============================] - 0s 6ms/step - loss: 0.4058 - accuracy: 0.8897 - val_loss: 0.3603 - val_accuracy: 0.9371\n",
            "Epoch 17/100\n",
            "14/14 [==============================] - 0s 5ms/step - loss: 0.3865 - accuracy: 0.8944 - val_loss: 0.3457 - val_accuracy: 0.9231\n",
            "Epoch 18/100\n",
            "14/14 [==============================] - 0s 6ms/step - loss: 0.3788 - accuracy: 0.8803 - val_loss: 0.3318 - val_accuracy: 0.9231\n",
            "Epoch 19/100\n",
            "14/14 [==============================] - 0s 5ms/step - loss: 0.3757 - accuracy: 0.8826 - val_loss: 0.3196 - val_accuracy: 0.9441\n",
            "Epoch 20/100\n",
            "14/14 [==============================] - 0s 6ms/step - loss: 0.3633 - accuracy: 0.8944 - val_loss: 0.3095 - val_accuracy: 0.9510\n",
            "Epoch 21/100\n",
            "14/14 [==============================] - 0s 8ms/step - loss: 0.3529 - accuracy: 0.8850 - val_loss: 0.2968 - val_accuracy: 0.9441\n",
            "Epoch 22/100\n",
            "14/14 [==============================] - 0s 6ms/step - loss: 0.3352 - accuracy: 0.9014 - val_loss: 0.2863 - val_accuracy: 0.9510\n",
            "Epoch 23/100\n",
            "14/14 [==============================] - 0s 7ms/step - loss: 0.3316 - accuracy: 0.8991 - val_loss: 0.2762 - val_accuracy: 0.9510\n",
            "Epoch 24/100\n",
            "14/14 [==============================] - 0s 5ms/step - loss: 0.3256 - accuracy: 0.8967 - val_loss: 0.2670 - val_accuracy: 0.9510\n",
            "Epoch 25/100\n",
            "14/14 [==============================] - 0s 6ms/step - loss: 0.3076 - accuracy: 0.9085 - val_loss: 0.2583 - val_accuracy: 0.9510\n",
            "Epoch 26/100\n",
            "14/14 [==============================] - 0s 6ms/step - loss: 0.3071 - accuracy: 0.9061 - val_loss: 0.2506 - val_accuracy: 0.9510\n",
            "Epoch 27/100\n",
            "14/14 [==============================] - 0s 6ms/step - loss: 0.2917 - accuracy: 0.9131 - val_loss: 0.2423 - val_accuracy: 0.9510\n",
            "Epoch 28/100\n",
            "14/14 [==============================] - 0s 6ms/step - loss: 0.2867 - accuracy: 0.9038 - val_loss: 0.2365 - val_accuracy: 0.9441\n",
            "Epoch 29/100\n",
            "14/14 [==============================] - 0s 7ms/step - loss: 0.2796 - accuracy: 0.8967 - val_loss: 0.2318 - val_accuracy: 0.9441\n",
            "Epoch 30/100\n",
            "14/14 [==============================] - 0s 6ms/step - loss: 0.2789 - accuracy: 0.9225 - val_loss: 0.2247 - val_accuracy: 0.9441\n",
            "Epoch 31/100\n",
            "14/14 [==============================] - 0s 5ms/step - loss: 0.2676 - accuracy: 0.9131 - val_loss: 0.2168 - val_accuracy: 0.9510\n",
            "Epoch 32/100\n",
            "14/14 [==============================] - 0s 5ms/step - loss: 0.2738 - accuracy: 0.9014 - val_loss: 0.2118 - val_accuracy: 0.9510\n",
            "Epoch 33/100\n",
            "14/14 [==============================] - 0s 6ms/step - loss: 0.2622 - accuracy: 0.9108 - val_loss: 0.2071 - val_accuracy: 0.9510\n",
            "Epoch 34/100\n",
            "14/14 [==============================] - 0s 7ms/step - loss: 0.2537 - accuracy: 0.9061 - val_loss: 0.2031 - val_accuracy: 0.9441\n",
            "Epoch 35/100\n",
            "14/14 [==============================] - 0s 6ms/step - loss: 0.2531 - accuracy: 0.9108 - val_loss: 0.1999 - val_accuracy: 0.9510\n",
            "Epoch 36/100\n",
            "14/14 [==============================] - 0s 6ms/step - loss: 0.2474 - accuracy: 0.9155 - val_loss: 0.1949 - val_accuracy: 0.9441\n",
            "Epoch 37/100\n",
            "14/14 [==============================] - 0s 5ms/step - loss: 0.2475 - accuracy: 0.9038 - val_loss: 0.1890 - val_accuracy: 0.9371\n",
            "Epoch 38/100\n",
            "14/14 [==============================] - 0s 6ms/step - loss: 0.2320 - accuracy: 0.9178 - val_loss: 0.1858 - val_accuracy: 0.9441\n",
            "Epoch 39/100\n",
            "14/14 [==============================] - 0s 5ms/step - loss: 0.2389 - accuracy: 0.9178 - val_loss: 0.1835 - val_accuracy: 0.9510\n",
            "Epoch 40/100\n",
            "14/14 [==============================] - 0s 6ms/step - loss: 0.2344 - accuracy: 0.9202 - val_loss: 0.1775 - val_accuracy: 0.9441\n",
            "Epoch 41/100\n",
            "14/14 [==============================] - 0s 7ms/step - loss: 0.2339 - accuracy: 0.9155 - val_loss: 0.1755 - val_accuracy: 0.9441\n",
            "Epoch 42/100\n",
            "14/14 [==============================] - 0s 5ms/step - loss: 0.2220 - accuracy: 0.9319 - val_loss: 0.1716 - val_accuracy: 0.9441\n",
            "Epoch 43/100\n",
            "14/14 [==============================] - 0s 6ms/step - loss: 0.2176 - accuracy: 0.9296 - val_loss: 0.1686 - val_accuracy: 0.9441\n",
            "Epoch 44/100\n",
            "14/14 [==============================] - 0s 5ms/step - loss: 0.2281 - accuracy: 0.9038 - val_loss: 0.1668 - val_accuracy: 0.9580\n",
            "Epoch 45/100\n",
            "14/14 [==============================] - 0s 6ms/step - loss: 0.2235 - accuracy: 0.9272 - val_loss: 0.1634 - val_accuracy: 0.9510\n",
            "Epoch 46/100\n",
            "14/14 [==============================] - 0s 6ms/step - loss: 0.2156 - accuracy: 0.9178 - val_loss: 0.1598 - val_accuracy: 0.9441\n",
            "Epoch 47/100\n",
            "14/14 [==============================] - 0s 5ms/step - loss: 0.2113 - accuracy: 0.9272 - val_loss: 0.1591 - val_accuracy: 0.9580\n",
            "Epoch 48/100\n",
            "14/14 [==============================] - 0s 6ms/step - loss: 0.2129 - accuracy: 0.9202 - val_loss: 0.1533 - val_accuracy: 0.9580\n",
            "Epoch 49/100\n",
            "14/14 [==============================] - 0s 5ms/step - loss: 0.2124 - accuracy: 0.9272 - val_loss: 0.1524 - val_accuracy: 0.9510\n",
            "Epoch 50/100\n",
            "14/14 [==============================] - 0s 5ms/step - loss: 0.2050 - accuracy: 0.9178 - val_loss: 0.1530 - val_accuracy: 0.9650\n",
            "Epoch 51/100\n",
            "14/14 [==============================] - 0s 6ms/step - loss: 0.1870 - accuracy: 0.9413 - val_loss: 0.1471 - val_accuracy: 0.9441\n",
            "Epoch 52/100\n",
            "14/14 [==============================] - 0s 5ms/step - loss: 0.2066 - accuracy: 0.9319 - val_loss: 0.1456 - val_accuracy: 0.9720\n",
            "Epoch 53/100\n",
            "14/14 [==============================] - 0s 6ms/step - loss: 0.1961 - accuracy: 0.9272 - val_loss: 0.1431 - val_accuracy: 0.9650\n",
            "Epoch 54/100\n",
            "14/14 [==============================] - 0s 6ms/step - loss: 0.1972 - accuracy: 0.9202 - val_loss: 0.1408 - val_accuracy: 0.9650\n",
            "Epoch 55/100\n",
            "14/14 [==============================] - 0s 6ms/step - loss: 0.1846 - accuracy: 0.9343 - val_loss: 0.1385 - val_accuracy: 0.9650\n",
            "Epoch 56/100\n",
            "14/14 [==============================] - 0s 5ms/step - loss: 0.1864 - accuracy: 0.9366 - val_loss: 0.1368 - val_accuracy: 0.9650\n",
            "Epoch 57/100\n",
            "14/14 [==============================] - 0s 7ms/step - loss: 0.1807 - accuracy: 0.9319 - val_loss: 0.1347 - val_accuracy: 0.9650\n",
            "Epoch 58/100\n",
            "14/14 [==============================] - 0s 7ms/step - loss: 0.1791 - accuracy: 0.9343 - val_loss: 0.1341 - val_accuracy: 0.9720\n",
            "Epoch 59/100\n",
            "14/14 [==============================] - 0s 6ms/step - loss: 0.1763 - accuracy: 0.9460 - val_loss: 0.1304 - val_accuracy: 0.9790\n",
            "Epoch 60/100\n",
            "14/14 [==============================] - 0s 5ms/step - loss: 0.1985 - accuracy: 0.9202 - val_loss: 0.1297 - val_accuracy: 0.9650\n",
            "Epoch 61/100\n",
            "14/14 [==============================] - 0s 5ms/step - loss: 0.1774 - accuracy: 0.9366 - val_loss: 0.1276 - val_accuracy: 0.9790\n",
            "Epoch 62/100\n",
            "14/14 [==============================] - 0s 6ms/step - loss: 0.1697 - accuracy: 0.9484 - val_loss: 0.1253 - val_accuracy: 0.9790\n",
            "Epoch 63/100\n",
            "14/14 [==============================] - 0s 5ms/step - loss: 0.1652 - accuracy: 0.9507 - val_loss: 0.1252 - val_accuracy: 0.9650\n",
            "Epoch 64/100\n",
            "14/14 [==============================] - 0s 5ms/step - loss: 0.1702 - accuracy: 0.9507 - val_loss: 0.1233 - val_accuracy: 0.9720\n",
            "Epoch 65/100\n",
            "14/14 [==============================] - 0s 6ms/step - loss: 0.1731 - accuracy: 0.9460 - val_loss: 0.1233 - val_accuracy: 0.9650\n",
            "Epoch 66/100\n",
            "14/14 [==============================] - 0s 6ms/step - loss: 0.1684 - accuracy: 0.9507 - val_loss: 0.1185 - val_accuracy: 0.9860\n",
            "Epoch 67/100\n",
            "14/14 [==============================] - 0s 6ms/step - loss: 0.1662 - accuracy: 0.9413 - val_loss: 0.1191 - val_accuracy: 0.9790\n",
            "Epoch 68/100\n",
            "14/14 [==============================] - 0s 5ms/step - loss: 0.1678 - accuracy: 0.9437 - val_loss: 0.1170 - val_accuracy: 0.9790\n",
            "Epoch 69/100\n",
            "14/14 [==============================] - 0s 7ms/step - loss: 0.1682 - accuracy: 0.9460 - val_loss: 0.1149 - val_accuracy: 0.9790\n",
            "Epoch 70/100\n",
            "14/14 [==============================] - 0s 5ms/step - loss: 0.1561 - accuracy: 0.9484 - val_loss: 0.1144 - val_accuracy: 0.9790\n",
            "Epoch 71/100\n",
            "14/14 [==============================] - 0s 6ms/step - loss: 0.1590 - accuracy: 0.9413 - val_loss: 0.1127 - val_accuracy: 0.9790\n",
            "Epoch 72/100\n",
            "14/14 [==============================] - 0s 6ms/step - loss: 0.1622 - accuracy: 0.9343 - val_loss: 0.1137 - val_accuracy: 0.9790\n",
            "Epoch 73/100\n",
            "14/14 [==============================] - 0s 5ms/step - loss: 0.1565 - accuracy: 0.9437 - val_loss: 0.1094 - val_accuracy: 0.9860\n",
            "Epoch 74/100\n",
            "14/14 [==============================] - 0s 6ms/step - loss: 0.1522 - accuracy: 0.9413 - val_loss: 0.1097 - val_accuracy: 0.9790\n",
            "Epoch 75/100\n",
            "14/14 [==============================] - 0s 5ms/step - loss: 0.1502 - accuracy: 0.9390 - val_loss: 0.1100 - val_accuracy: 0.9790\n",
            "Epoch 76/100\n",
            "14/14 [==============================] - 0s 5ms/step - loss: 0.1633 - accuracy: 0.9437 - val_loss: 0.1092 - val_accuracy: 0.9790\n",
            "Epoch 77/100\n",
            "14/14 [==============================] - 0s 7ms/step - loss: 0.1545 - accuracy: 0.9460 - val_loss: 0.1070 - val_accuracy: 0.9790\n",
            "Epoch 78/100\n",
            "14/14 [==============================] - 0s 5ms/step - loss: 0.1510 - accuracy: 0.9554 - val_loss: 0.1053 - val_accuracy: 0.9790\n",
            "Epoch 79/100\n",
            "14/14 [==============================] - 0s 6ms/step - loss: 0.1443 - accuracy: 0.9624 - val_loss: 0.1072 - val_accuracy: 0.9790\n",
            "Epoch 80/100\n",
            "14/14 [==============================] - 0s 7ms/step - loss: 0.1418 - accuracy: 0.9577 - val_loss: 0.1032 - val_accuracy: 0.9790\n",
            "Epoch 81/100\n",
            "14/14 [==============================] - 0s 6ms/step - loss: 0.1378 - accuracy: 0.9507 - val_loss: 0.1012 - val_accuracy: 0.9790\n",
            "Epoch 82/100\n",
            "14/14 [==============================] - 0s 6ms/step - loss: 0.1440 - accuracy: 0.9577 - val_loss: 0.0993 - val_accuracy: 0.9860\n",
            "Epoch 83/100\n",
            "14/14 [==============================] - 0s 5ms/step - loss: 0.1451 - accuracy: 0.9601 - val_loss: 0.1005 - val_accuracy: 0.9790\n",
            "Epoch 84/100\n",
            "14/14 [==============================] - 0s 5ms/step - loss: 0.1430 - accuracy: 0.9577 - val_loss: 0.0987 - val_accuracy: 0.9790\n",
            "Epoch 85/100\n",
            "14/14 [==============================] - 0s 6ms/step - loss: 0.1425 - accuracy: 0.9554 - val_loss: 0.0977 - val_accuracy: 0.9790\n",
            "Epoch 86/100\n",
            "14/14 [==============================] - 0s 6ms/step - loss: 0.1314 - accuracy: 0.9671 - val_loss: 0.0975 - val_accuracy: 0.9790\n",
            "Epoch 87/100\n",
            "14/14 [==============================] - 0s 6ms/step - loss: 0.1432 - accuracy: 0.9577 - val_loss: 0.0967 - val_accuracy: 0.9790\n",
            "Epoch 88/100\n",
            "14/14 [==============================] - 0s 6ms/step - loss: 0.1326 - accuracy: 0.9648 - val_loss: 0.0992 - val_accuracy: 0.9790\n",
            "Epoch 89/100\n",
            "14/14 [==============================] - 0s 6ms/step - loss: 0.1278 - accuracy: 0.9671 - val_loss: 0.0972 - val_accuracy: 0.9720\n",
            "Epoch 90/100\n",
            "14/14 [==============================] - 0s 5ms/step - loss: 0.1347 - accuracy: 0.9531 - val_loss: 0.0919 - val_accuracy: 0.9860\n",
            "Epoch 91/100\n",
            "14/14 [==============================] - 0s 6ms/step - loss: 0.1315 - accuracy: 0.9718 - val_loss: 0.0922 - val_accuracy: 0.9860\n",
            "Epoch 92/100\n",
            "14/14 [==============================] - 0s 6ms/step - loss: 0.1265 - accuracy: 0.9648 - val_loss: 0.0973 - val_accuracy: 0.9790\n",
            "Epoch 93/100\n",
            "14/14 [==============================] - 0s 6ms/step - loss: 0.1368 - accuracy: 0.9601 - val_loss: 0.0905 - val_accuracy: 0.9860\n",
            "Epoch 94/100\n",
            "14/14 [==============================] - 0s 5ms/step - loss: 0.1307 - accuracy: 0.9460 - val_loss: 0.0911 - val_accuracy: 0.9720\n",
            "Epoch 95/100\n",
            "14/14 [==============================] - 0s 6ms/step - loss: 0.1257 - accuracy: 0.9624 - val_loss: 0.0915 - val_accuracy: 0.9790\n",
            "Epoch 96/100\n",
            "14/14 [==============================] - 0s 6ms/step - loss: 0.1267 - accuracy: 0.9624 - val_loss: 0.0883 - val_accuracy: 0.9790\n",
            "Epoch 97/100\n",
            "14/14 [==============================] - 0s 5ms/step - loss: 0.1227 - accuracy: 0.9695 - val_loss: 0.0872 - val_accuracy: 0.9790\n",
            "Epoch 98/100\n",
            "14/14 [==============================] - 0s 6ms/step - loss: 0.1192 - accuracy: 0.9648 - val_loss: 0.0878 - val_accuracy: 0.9790\n",
            "Epoch 99/100\n",
            "14/14 [==============================] - 0s 5ms/step - loss: 0.1270 - accuracy: 0.9671 - val_loss: 0.0875 - val_accuracy: 0.9790\n",
            "Epoch 100/100\n",
            "14/14 [==============================] - 0s 6ms/step - loss: 0.1350 - accuracy: 0.9601 - val_loss: 0.0877 - val_accuracy: 0.9790\n"
          ]
        }
      ]
    },
    {
      "cell_type": "code",
      "source": [
        "# Evaluate the model on the test set\n",
        "loss, accuracy = model.evaluate(x_test, y_test, verbose=0)\n",
        "print(f\"Validation Loss: {loss}\")\n",
        "print(f\"Validation Accuracy: {accuracy}\")"
      ],
      "metadata": {
        "colab": {
          "base_uri": "https://localhost:8080/"
        },
        "id": "ivvsxvfX_zi9",
        "outputId": "34bd7bc2-6755-4746-f8a5-ceae4ca65e6e"
      },
      "execution_count": null,
      "outputs": [
        {
          "output_type": "stream",
          "name": "stdout",
          "text": [
            "Validation Loss: 0.0877050906419754\n",
            "Validation Accuracy: 0.9790209531784058\n"
          ]
        }
      ]
    },
    {
      "cell_type": "code",
      "source": [
        "#plot the training and validation accura y and loss at each epoch\n",
        "loss=history.history['loss']\n",
        "val_loss=history.history['val_loss']\n",
        "epochs =range(1,len(loss)+1)\n",
        "plt.plot(epochs,loss,'y',label='training loss')\n",
        "plt.plot(epochs,val_loss,'r',label='validation loss')\n",
        "plt.title('training and validation loss')\n",
        "plt.xlabel('epoch')\n",
        "plt.ylabel('loss')\n",
        "plt.legend()\n",
        "plt.show()\n",
        "\n",
        "acc=history.history['accuracy']\n",
        "val_acc=history.history['val_accuracy']\n",
        "plt.plot(epochs,acc,'y',label='training acc')\n",
        "plt.plot(epochs,val_acc,'r',label='validation acc')\n",
        "plt.title('training and validation accuracy')\n",
        "plt.xlabel('epoch')\n",
        "plt.ylabel('accuracy')\n",
        "plt.legend()\n",
        "plt.show"
      ],
      "metadata": {
        "colab": {
          "base_uri": "https://localhost:8080/",
          "height": 1000
        },
        "id": "MUCypR4n7AYr",
        "outputId": "ec514fc9-5844-4cfe-b45d-45469b57e4e3"
      },
      "execution_count": null,
      "outputs": [
        {
          "output_type": "display_data",
          "data": {
            "text/plain": [
              "<Figure size 640x480 with 1 Axes>"
            ],
            "image/png": "[encoded data removed]"
          },
          "metadata": {}
        },
        {
          "output_type": "execute_result",
          "data": {
            "text/plain": [
              "<function matplotlib.pyplot.show(close=None, block=None)>"
            ],
            "text/html": [
              "<div style=\"max-width:800px; border: 1px solid var(--colab-border-color);\"><style>\n",
              "      pre.function-repr-contents {\n",
              "        overflow-x: auto;\n",
              "        padding: 8px 12px;\n",
              "        max-height: 500px;\n",
              "      }\n",
              "\n",
              "      pre.function-repr-contents.function-repr-contents-collapsed {\n",
              "        cursor: pointer;\n",
              "        max-height: 100px;\n",
              "      }\n",
              "    </style>\n",
              "    <pre style=\"white-space: initial; background:\n",
              "         var(--colab-secondary-surface-color); padding: 8px 12px;\n",
              "         border-bottom: 1px solid var(--colab-border-color);\"><b>matplotlib.pyplot.show</b><br/>def show(*args, **kwargs)</pre><pre class=\"function-repr-contents function-repr-contents-collapsed\" style=\"\"><a class=\"filepath\" style=\"display:none\" href=\"#\">/usr/local/lib/python3.10/dist-packages/matplotlib/pyplot.py</a>Display all open figures.\n",
              "\n",
              "Parameters\n",
              "----------\n",
              "block : bool, optional\n",
              "    Whether to wait for all figures to be closed before returning.\n",
              "\n",
              "    If `True` block and run the GUI main loop until all figure windows\n",
              "    are closed.\n",
              "\n",
              "    If `False` ensure that all figure windows are displayed and return\n",
              "    immediately.  In this case, you are responsible for ensuring\n",
              "    that the event loop is running to have responsive figures.\n",
              "\n",
              "    Defaults to True in non-interactive mode and to False in interactive\n",
              "    mode (see `.pyplot.isinteractive`).\n",
              "\n",
              "See Also\n",
              "--------\n",
              "ion : Enable interactive mode, which shows / updates the figure after\n",
              "      every plotting command, so that calling ``show()`` is not necessary.\n",
              "ioff : Disable interactive mode.\n",
              "savefig : Save the figure to an image file instead of showing it on screen.\n",
              "\n",
              "Notes\n",
              "-----\n",
              "**Saving figures to file and showing a window at the same time**\n",
              "\n",
              "If you want an image file as well as a user interface window, use\n",
              "`.pyplot.savefig` before `.pyplot.show`. At the end of (a blocking)\n",
              "``show()`` the figure is closed and thus unregistered from pyplot. Calling\n",
              "`.pyplot.savefig` afterwards would save a new and thus empty figure. This\n",
              "limitation of command order does not apply if the show is non-blocking or\n",
              "if you keep a reference to the figure and use `.Figure.savefig`.\n",
              "\n",
              "**Auto-show in jupyter notebooks**\n",
              "\n",
              "The jupyter backends (activated via ``%matplotlib inline``,\n",
              "``%matplotlib notebook``, or ``%matplotlib widget``), call ``show()`` at\n",
              "the end of every cell by default. Thus, you usually don&#x27;t have to call it\n",
              "explicitly there.</pre>\n",
              "      <script>\n",
              "      if (google.colab.kernel.accessAllowed && google.colab.files && google.colab.files.view) {\n",
              "        for (const element of document.querySelectorAll('.filepath')) {\n",
              "          element.style.display = 'block'\n",
              "          element.onclick = (event) => {\n",
              "            event.preventDefault();\n",
              "            event.stopPropagation();\n",
              "            google.colab.files.view(element.textContent, 401);\n",
              "          };\n",
              "        }\n",
              "      }\n",
              "      for (const element of document.querySelectorAll('.function-repr-contents')) {\n",
              "        element.onclick = (event) => {\n",
              "          event.preventDefault();\n",
              "          event.stopPropagation();\n",
              "          element.classList.toggle('function-repr-contents-collapsed');\n",
              "        };\n",
              "      }\n",
              "      </script>\n",
              "      </div>"
            ]
          },
          "metadata": {},
          "execution_count": 19
        },
        {
          "output_type": "display_data",
          "data": {
            "text/plain": [
              "<Figure size 640x480 with 1 Axes>"
            ],
            "image/png": "[encoded data removed]"
          },
          "metadata": {}
        }
      ]
    },
    {
      "cell_type": "code",
      "source": [
        "#predicting the test set results\n",
        "y_pred = model.predict(x_test)\n",
        "y_pred = (y_pred > 0.5)\n",
        "print(y_test)\n",
        "\n",
        "#making the confusion  matrix\n",
        "from sklearn.metrics import confusion_matrix\n",
        "cm = confusion_matrix(y_test, y_pred)\n",
        "sns.heatmap(cm, annot=True, fmt='d')\n",
        "plt.show()"
      ],
      "metadata": {
        "colab": {
          "base_uri": "https://localhost:8080/",
          "height": 517
        },
        "id": "mqfCL6lJ8q77",
        "outputId": "3e40c4dd-8dcf-4b4b-bab9-ddc5ca522f75"
      },
      "execution_count": null,
      "outputs": [
        {
          "output_type": "stream",
          "name": "stdout",
          "text": [
            "5/5 [==============================] - 0s 2ms/step\n",
            "[0 1 1 0 0 1 1 1 0 0 0 1 0 1 0 1 0 0 0 1 1 0 1 0 0 0 0 0 0 1 0 0 0 0 0 0 1\n",
            " 0 1 0 0 1 0 0 0 0 0 0 0 0 1 1 0 0 0 0 0 1 1 0 0 1 1 0 0 0 1 1 0 0 1 1 0 1\n",
            " 0 0 0 1 0 0 1 0 1 1 1 1 1 1 0 0 0 0 0 0 0 0 1 1 0 1 1 0 1 1 0 0 0 1 0 0 1\n",
            " 0 0 1 0 1 0 0 0 1 0 0 0 1 0 1 1 0 0 1 1 1 0 0 0 1 0 0 0 1 0 1 0]\n"
          ]
        },
        {
          "output_type": "display_data",
          "data": {
            "text/plain": [
              "<Figure size 640x480 with 2 Axes>"
            ],
            "image/png": "[encoded data removed]"
          },
          "metadata": {}
        }
      ]
    }
  ]
}